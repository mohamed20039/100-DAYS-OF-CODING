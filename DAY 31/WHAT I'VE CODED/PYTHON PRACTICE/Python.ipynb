{
 "cells": [
  {
   "cell_type": "code",
   "execution_count": 2,
   "id": "d72b84f1-88d5-4f03-b11b-c87e812396cb",
   "metadata": {},
   "outputs": [
    {
     "name": "stdin",
     "output_type": "stream",
     "text": [
      "How much food do you ate?  20\n"
     ]
    },
    {
     "name": "stdout",
     "output_type": "stream",
     "text": [
      "The tip percentage that u gonna pay is $4.0\n"
     ]
    }
   ],
   "source": [
    "#Tip calculator\n",
    "\n",
    "def tip():\n",
    "    food=int(input(\"How much food do you ate? \"))\n",
    "    tip=0.2\n",
    "    \n",
    "    tipAmount=food*0.2\n",
    "    tipPercentage=tipAmount/100\n",
    "    \n",
    "    print(f\"The tip percentage that u gonna pay is ${tipAmount}\")\n",
    "    \n",
    "tip()"
   ]
  },
  {
   "cell_type": "code",
   "execution_count": null,
   "id": "5c65f8ee-b923-4737-aa4b-7e4a1edcfe12",
   "metadata": {},
   "outputs": [],
   "source": []
  }
 ],
 "metadata": {
  "kernelspec": {
   "display_name": "Python 3 (ipykernel)",
   "language": "python",
   "name": "python3"
  },
  "language_info": {
   "codemirror_mode": {
    "name": "ipython",
    "version": 3
   },
   "file_extension": ".py",
   "mimetype": "text/x-python",
   "name": "python",
   "nbconvert_exporter": "python",
   "pygments_lexer": "ipython3",
   "version": "3.11.0"
  }
 },
 "nbformat": 4,
 "nbformat_minor": 5
}
